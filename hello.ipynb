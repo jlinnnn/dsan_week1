{
 "cells": [
  {
   "cell_type": "markdown",
   "metadata": {},
   "source": [
    "# This is my first jupyter notebook code segement. \n",
    "## My name is Josh Lin by the way\n"
   ]
  },
  {
   "cell_type": "code",
   "execution_count": 1,
   "metadata": {},
   "outputs": [
    {
     "name": "stdout",
     "output_type": "stream",
     "text": [
      "Hello World, from dog\n",
      "Hello World, from cat\n",
      "Hello World, from cow\n",
      "Hello World, from sheep\n"
     ]
    }
   ],
   "source": [
    "array = ['dog', 'cat', 'cow', 'sheep']\n",
    "for i in array:\n",
    "    print(\"Hello World, from \" + i)"
   ]
  }
 ],
 "metadata": {
  "kernelspec": {
   "display_name": "base",
   "language": "python",
   "name": "python3"
  },
  "language_info": {
   "codemirror_mode": {
    "name": "ipython",
    "version": 3
   },
   "file_extension": ".py",
   "mimetype": "text/x-python",
   "name": "python",
   "nbconvert_exporter": "python",
   "pygments_lexer": "ipython3",
   "version": "3.9.12"
  }
 },
 "nbformat": 4,
 "nbformat_minor": 2
}
